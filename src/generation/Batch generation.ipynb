{
 "cells": [
  {
   "cell_type": "code",
   "execution_count": null,
   "metadata": {},
   "outputs": [],
   "source": [
    "import pandas as pd\n",
    "import openai\n",
    "from model.OpenAIModel import OpenAIModel"
   ]
  },
  {
   "cell_type": "code",
   "execution_count": null,
   "metadata": {},
   "outputs": [],
   "source": [
    "df = pd.read_csv('../../data/data.csv')"
   ]
  },
  {
   "cell_type": "code",
   "execution_count": null,
   "metadata": {},
   "outputs": [],
   "source": [
    "model_names = ['text-davinci-003', 'gpt-3.5-turbo', 'text-curie-001', 'text-babbage-001', 'gpt-4']\n",
    "params = {\n",
    "    \"max_length\": 1024,\n",
    "    \"temperature\": 1,\n",
    "    \"repeat_count\": 1\n",
    "}\n",
    "\n",
    "prompts = df['prompt'].tolist()"
   ]
  },
  {
   "cell_type": "code",
   "execution_count": null,
   "metadata": {},
   "outputs": [],
   "source": [
    "openai.api_key = \"API_KEY\"\n",
    "openai.organization = \"ORGANIZATION_ID\""
   ]
  },
  {
   "cell_type": "code",
   "execution_count": null,
   "metadata": {},
   "outputs": [],
   "source": [
    "for model_name in model_names:\n",
    "    language_model = OpenAIModel(\n",
    "        model_name=model_name,\n",
    "        database=None,\n",
    "        **params\n",
    "    )\n",
    "\n",
    "    texts = language_model.generate(prompts, repeat=1)\n",
    "    print(texts)"
   ]
  }
 ],
 "metadata": {
  "kernelspec": {
   "display_name": "veraai",
   "language": "python",
   "name": "python3"
  },
  "language_info": {
   "codemirror_mode": {
    "name": "ipython",
    "version": 3
   },
   "file_extension": ".py",
   "mimetype": "text/x-python",
   "name": "python",
   "nbconvert_exporter": "python",
   "pygments_lexer": "ipython3",
   "version": "3.11.3"
  },
  "orig_nbformat": 4
 },
 "nbformat": 4,
 "nbformat_minor": 2
}
