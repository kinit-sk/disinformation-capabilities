{
 "cells": [
  {
   "cell_type": "code",
   "execution_count": null,
   "metadata": {},
   "outputs": [],
   "source": [
    "import pandas as pd\n",
    "import nltk\n",
    "nltk.download('punkt')"
   ]
  },
  {
   "cell_type": "code",
   "execution_count": null,
   "metadata": {},
   "outputs": [],
   "source": [
    "# Load machine generated data and human-written articles\n",
    "\n",
    "df_generations = pd.read_csv('../../data/data.csv')\n",
    "df_articles = pd.read_csv('../../data/articles.csv')"
   ]
  },
  {
   "cell_type": "code",
   "execution_count": null,
   "metadata": {},
   "outputs": [],
   "source": [
    "# Create dataset for detection task with only text and label columns\n",
    "\n",
    "final_df = pd.DataFrame()\n",
    "final_df['Generation'] = df_articles['article']\n",
    "final_df['label'] = 'human'\n",
    "\n",
    "final_df = pd.concat([\n",
    "  final_df,\n",
    "  pd.DataFrame({\n",
    "    'Generation': df_generations['generated_text'],\n",
    "    'label': ['machine'] * len(df_generations)\n",
    "  })\n",
    "  ], axis=0)\n",
    "\n",
    "final_df.to_csv('../../data/detection/mgt_detection.csv', index=False)"
   ]
  }
 ],
 "metadata": {
  "kernelspec": {
   "display_name": "veraai",
   "language": "python",
   "name": "python3"
  },
  "language_info": {
   "codemirror_mode": {
    "name": "ipython",
    "version": 3
   },
   "file_extension": ".py",
   "mimetype": "text/x-python",
   "name": "python",
   "nbconvert_exporter": "python",
   "pygments_lexer": "ipython3",
   "version": "3.11.3"
  }
 },
 "nbformat": 4,
 "nbformat_minor": 2
}
