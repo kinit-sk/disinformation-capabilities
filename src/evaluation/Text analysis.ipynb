{
 "cells": [
  {
   "cell_type": "code",
   "execution_count": null,
   "metadata": {},
   "outputs": [],
   "source": [
    "import pandas as pd\n",
    "import nltk\n",
    "nltk.download('punkt')\n",
    "from preprocessing import get_word_sentence_counts\n",
    "from format import change_model_names"
   ]
  },
  {
   "cell_type": "code",
   "execution_count": null,
   "metadata": {},
   "outputs": [],
   "source": [
    "detection_df = pd.read_csv(\"../../data/detection/mgt_detection3.csv\", encoding=\"utf-8\")"
   ]
  },
  {
   "cell_type": "code",
   "execution_count": null,
   "metadata": {},
   "outputs": [],
   "source": [
    "# get word and sentence counts for each text\n",
    "detection_df[\"sentence_count\"] = detection_df[\"Generation\"].apply(lambda x: get_word_sentence_counts(str(x))[0])\n",
    "detection_df[\"word_count\"] = detection_df[\"Generation\"].apply(lambda x: get_word_sentence_counts(str(x))[1])"
   ]
  },
  {
   "cell_type": "code",
   "execution_count": null,
   "metadata": {},
   "outputs": [],
   "source": [
    "# calculate mean and std for word count and sentece count for each label\n",
    "detection_df.groupby(\"label\").agg({\"sentence_count\": [\"mean\", \"std\"], \"word_count\": [\"mean\", \"std\"]})"
   ]
  },
  {
   "cell_type": "code",
   "execution_count": null,
   "metadata": {},
   "outputs": [],
   "source": [
    "df = pd.read_csv(\"../../data/data.csv\", encoding=\"utf-8\")"
   ]
  },
  {
   "cell_type": "code",
   "execution_count": null,
   "metadata": {},
   "outputs": [],
   "source": [
    "df.reset_index(inplace=True)"
   ]
  },
  {
   "cell_type": "code",
   "execution_count": null,
   "metadata": {},
   "outputs": [],
   "source": [
    "# add model to df from final_df according to generated_text\n",
    "def get_models(detection_df, model_df):\n",
    "    for index, row in detection_df.iterrows():\n",
    "        idx = model_df.index[model_df['generated_text'] == row['Generation']]\n",
    "        if idx.size > 0:\n",
    "            idx = idx[0]\n",
    "            detection_df.at[index, 'model'] = model_df.loc[idx, 'model']\n",
    "        else:\n",
    "            detection_df.at[index, 'model'] = \"human\"\n",
    "\n",
    "    return detection_df"
   ]
  },
  {
   "cell_type": "code",
   "execution_count": null,
   "metadata": {},
   "outputs": [],
   "source": [
    "detection_df = get_models(detection_df, df)"
   ]
  },
  {
   "cell_type": "code",
   "execution_count": null,
   "metadata": {},
   "outputs": [],
   "source": [
    "# visualize only 2 decimals\n",
    "def format_table(df):\n",
    "    def custom_format(val):\n",
    "        return f\"{val:.2f}\"\n",
    "        \n",
    "    for row_idx, row in enumerate(df.values):\n",
    "        formatted_row = [custom_format(val)\n",
    "                         for val in row]\n",
    "        df.iloc[row_idx] = formatted_row\n",
    "    return df"
   ]
  },
  {
   "cell_type": "code",
   "execution_count": null,
   "metadata": {},
   "outputs": [],
   "source": [
    "custom_order = ['gpt-4', 'gpt-3.5-turbo', 'text-davinci-003', 'text-curie-001', 'text-babbage-001', 'vicuna-33b-v1.3', 'falcon-40b-instruct', 'Llama-2-70b-chat-hf', 'Mistral-7B-Instruct-v0.1', 'opt-iml-max-30b', 'human']\n",
    "print(format_table(change_model_names(detection_df.groupby(\"model\").agg({\"sentence_count\": [\"mean\", \"std\"], \"word_count\": [\"mean\", \"std\"]}).reindex(custom_order))).to_latex())"
   ]
  }
 ],
 "metadata": {
  "kernelspec": {
   "display_name": "veraai",
   "language": "python",
   "name": "python3"
  },
  "language_info": {
   "codemirror_mode": {
    "name": "ipython",
    "version": 3
   },
   "file_extension": ".py",
   "mimetype": "text/x-python",
   "name": "python",
   "nbconvert_exporter": "python",
   "pygments_lexer": "ipython3",
   "version": "3.11.3"
  },
  "orig_nbformat": 4
 },
 "nbformat": 4,
 "nbformat_minor": 2
}
